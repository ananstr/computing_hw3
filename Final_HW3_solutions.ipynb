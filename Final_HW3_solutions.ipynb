{
 "cells": [
  {
   "cell_type": "markdown",
   "metadata": {},
   "source": [
    "### Exercise 1\n",
    "Create a function called \"car_at_light\". It should take one parameter: \"light\" which gives the color of a traffic light. If the color is \"red\", the function should return \"stop\". If the color is \"green\", the function should return \"go\". If the color is \"yellow\" the function should return \"wait\". If the color is anything else, the function should raise an exception with the following message: \"Undefined instruction for color: 'light'\" where 'light', is the value of the parameter light."
   ]
  },
  {
   "cell_type": "code",
   "execution_count": 1,
   "metadata": {},
   "outputs": [],
   "source": [
    "def car_at_light(light):\n",
    "    # If the value of the parameter \"light\" is red, green or yellow, the function will return the following:\n",
    "    if light == \"red\":\n",
    "        return \"stop\"\n",
    "    elif light == \"green\":\n",
    "        return \"go\"\n",
    "    elif light == \"yellow\":\n",
    "        return \"wait\"\n",
    "    # If the value does not match any of the specified colors, the function will return a \n",
    "    # ValueError exception with a message that includes the value of the light parameter.\n",
    "    else:\n",
    "        raise ValueError(f\"Undefined instruction for color: {light}\")"
   ]
  },
  {
   "cell_type": "markdown",
   "metadata": {},
   "source": [
    "### Exercise 2\n",
    "Create a function named \"safe_subtract\" that takes two parameters and returns the result of the second value subtracted from the first. If the values cannot be subtracted due to their types, it returns None. If there is any other reason why it fails show the problem. "
   ]
  },
  {
   "cell_type": "code",
   "execution_count": 2,
   "metadata": {},
   "outputs": [],
   "source": [
    "\n",
    "def safe_subtract(a, b):\n",
    "    # Trying to execute the function:\n",
    "    try:\n",
    "        answer = a - b\n",
    "        return answer\n",
    "    # If a TypeError occurs, the function will not be able to substract the parameters and therefore, it will pass to the except block, returning \"None\".\n",
    "    except TypeError:\n",
    "        return None\n",
    "        \n",
    "safe_subtract(2,\"6\")"
   ]
  },
  {
   "cell_type": "markdown",
   "metadata": {},
   "source": [
    "### Exercise 3\n",
    "Imagine you have a dictionary with the attributes of a person: {'name': 'John', 'last_name': 'Doe', 'birth': 1987}, {'name': 'Janet', 'last_name': 'Bird', 'gender': 'female'}. Create two functions that return the age of the person that handles both examples. Name the first function \"retrieve_age_eafp\" and follow EAFP. Name the second function \"retrieve_age_lbyl\" and follow lbyl."
   ]
  },
  {
   "cell_type": "code",
   "execution_count": 24,
   "metadata": {},
   "outputs": [],
   "source": [
    "dic_1={'name': 'John', 'last_name': 'Doe', 'birth': 1987}\n",
    "dic_2={'name': 'Janet', 'last_name': 'Bird', 'gender': 'female'}\n",
    "\n",
    "#Defining the function and limiting the dtype of the parameter that receives\n",
    "def retrieve_age_lbyl(dic:dict):\n",
    "    #Import the actual date to be always updated\n",
    "    from datetime import datetime\n",
    "    #Checking for the existance of the key 'birth'\n",
    "    if 'birth' not in dic:\n",
    "        return (f\"There is no birth entry in this dictionary.\")\n",
    "    #Checking for the correctness of the value asociated to the key birth.\n",
    "    elif dic['birth'] > 0 and isinstance(dic['birth'], int):\n",
    "        return datetime.now().year - dic['birth']\n",
    "    else:\n",
    "    #Returning a message if anything else goes wrong.\n",
    "        return (\"Double check your dictionary, it looks like something is wrong\")\n",
    "\n",
    "def retrieve_age_eafp(dic:dict):\n",
    "    #Importing the actual date to be always updated\n",
    "    from datetime import datetime\n",
    "    try:\n",
    "        return datetime.now().year - dic['birth']\n",
    "    #Catching the KeyError if the key 'birth' doesn't exist\n",
    "    except KeyError:\n",
    "        return (f\"There is no birth entry on this dictionary.\")\n",
    "    #Catching any other possible error.\n",
    "    except:\n",
    "        return(\"Double check your dictionary, it looks like something is wrong\")"
   ]
  },
  {
   "cell_type": "code",
   "execution_count": 25,
   "metadata": {},
   "outputs": [
    {
     "name": "stdout",
     "output_type": "stream",
     "text": [
      "37\n",
      "There is no birth entry on this dictionary.\n"
     ]
    }
   ],
   "source": [
    "#Testing the functions\n",
    "print(retrieve_age_lbyl(dic_1))\n",
    "print(retrieve_age_eafp(dic_2))"
   ]
  },
  {
   "cell_type": "markdown",
   "metadata": {},
   "source": [
    "### Exercise 4\n",
    "\n",
    "Imagine you have a file named data.csv. Create a function called \"read_data\" that reads the file making sure to use to handle the fact that it might not exist."
   ]
  },
  {
   "cell_type": "code",
   "execution_count": 4,
   "metadata": {},
   "outputs": [],
   "source": [
    "#Importing union to manage two posible dtypes inside a single parameter\n",
    "from typing import Union\n",
    "#Importing the Path class to avoid posible errors on the pathing when executed in non-unix systems\n",
    "from pathlib import Path\n",
    "#Importing pandas to store the data from the csv file as a df\n",
    "import pandas as pd\n",
    "\n",
    "#Defining the function and limiting the dtype of the parameter that receives\n",
    "def read_data(csv_file: Union[str, Path]):\n",
    "    #Checking if the parameter received is a str to make it a Path object\n",
    "    if isinstance(csv_file, str):\n",
    "        csv_file = Path(csv_file)\n",
    "    #Checking if the csv_file given as a parameter exist.\n",
    "    if not csv_file.exists():\n",
    "        #Raising an FileNotFoundError if it doesn't.\n",
    "        raise FileNotFoundError (f\"The file {csv_file} doesn't exist. Double-check your path.\")\n",
    "    else:\n",
    "        #Checking that the file in fact is a csv file.\n",
    "        try:\n",
    "            with csv_file.open(mode=\"r\") as file_1:\n",
    "                #Reading throught the first line of the file to find the delimiter \",\" in this case.\n",
    "                first_line = file_1.readline()\n",
    "            if ',' not in first_line:\n",
    "                #Raising a value error is the delimiter is not found on the first line.\n",
    "                raise ValueError(\"The file that you want to read doesn't look like a CSV\")\n",
    "            #Storing the file on the variable file_1 and printing a confirmation message.\n",
    "            file_1 =pd.read_csv(csv_file)\n",
    "            print(\"The file has been read and stored in a file_1 variable.\")\n",
    "            return file_1\n",
    "        #Catching any other possible error.\n",
    "        except Exception as e:\n",
    "            print(f\"The following error has occurred: {e}\")"
   ]
  },
  {
   "cell_type": "code",
   "execution_count": 5,
   "metadata": {},
   "outputs": [
    {
     "name": "stdout",
     "output_type": "stream",
     "text": [
      "The file has been read and stored in a file_1 variable.\n"
     ]
    },
    {
     "data": {
      "text/html": [
       "<div>\n",
       "<style scoped>\n",
       "    .dataframe tbody tr th:only-of-type {\n",
       "        vertical-align: middle;\n",
       "    }\n",
       "\n",
       "    .dataframe tbody tr th {\n",
       "        vertical-align: top;\n",
       "    }\n",
       "\n",
       "    .dataframe thead th {\n",
       "        text-align: right;\n",
       "    }\n",
       "</style>\n",
       "<table border=\"1\" class=\"dataframe\">\n",
       "  <thead>\n",
       "    <tr style=\"text-align: right;\">\n",
       "      <th></th>\n",
       "      <th>name</th>\n",
       "      <th>age</th>\n",
       "      <th>city</th>\n",
       "    </tr>\n",
       "  </thead>\n",
       "  <tbody>\n",
       "    <tr>\n",
       "      <th>0</th>\n",
       "      <td>John</td>\n",
       "      <td>25</td>\n",
       "      <td>New York</td>\n",
       "    </tr>\n",
       "    <tr>\n",
       "      <th>1</th>\n",
       "      <td>Jane</td>\n",
       "      <td>30</td>\n",
       "      <td>Los Angeles</td>\n",
       "    </tr>\n",
       "    <tr>\n",
       "      <th>2</th>\n",
       "      <td>Doe</td>\n",
       "      <td>22</td>\n",
       "      <td>Chicago</td>\n",
       "    </tr>\n",
       "  </tbody>\n",
       "</table>\n",
       "</div>"
      ],
      "text/plain": [
       "   name  age         city\n",
       "0  John   25     New York\n",
       "1  Jane   30  Los Angeles\n",
       "2   Doe   22      Chicago"
      ]
     },
     "execution_count": 5,
     "metadata": {},
     "output_type": "execute_result"
    }
   ],
   "source": [
    "#Testing the function.\n",
    "read_data(\"trial_file.txt\")"
   ]
  },
  {
   "cell_type": "code",
   "execution_count": 6,
   "metadata": {},
   "outputs": [
    {
     "ename": "FileNotFoundError",
     "evalue": "The file non_existing_trial_file.txt doesn't exist. Double-check your path.",
     "output_type": "error",
     "traceback": [
      "\u001b[0;31m---------------------------------------------------------------------------\u001b[0m",
      "\u001b[0;31mFileNotFoundError\u001b[0m                         Traceback (most recent call last)",
      "Cell \u001b[0;32mIn[6], line 1\u001b[0m\n\u001b[0;32m----> 1\u001b[0m read_data(\u001b[38;5;124m\"\u001b[39m\u001b[38;5;124mnon_existing_trial_file.txt\u001b[39m\u001b[38;5;124m\"\u001b[39m)\n",
      "Cell \u001b[0;32mIn[4], line 16\u001b[0m, in \u001b[0;36mread_data\u001b[0;34m(csv_file)\u001b[0m\n\u001b[1;32m     13\u001b[0m \u001b[38;5;66;03m#Checking if the csv_file given as a parameter exist.\u001b[39;00m\n\u001b[1;32m     14\u001b[0m \u001b[38;5;28;01mif\u001b[39;00m \u001b[38;5;129;01mnot\u001b[39;00m csv_file\u001b[38;5;241m.\u001b[39mexists():\n\u001b[1;32m     15\u001b[0m     \u001b[38;5;66;03m#Raising an FileNotFoundError if it doesn't.\u001b[39;00m\n\u001b[0;32m---> 16\u001b[0m     \u001b[38;5;28;01mraise\u001b[39;00m \u001b[38;5;167;01mFileNotFoundError\u001b[39;00m (\u001b[38;5;124mf\u001b[39m\u001b[38;5;124m\"\u001b[39m\u001b[38;5;124mThe file \u001b[39m\u001b[38;5;132;01m{\u001b[39;00mcsv_file\u001b[38;5;132;01m}\u001b[39;00m\u001b[38;5;124m doesn\u001b[39m\u001b[38;5;124m'\u001b[39m\u001b[38;5;124mt exist. Double-check your path.\u001b[39m\u001b[38;5;124m\"\u001b[39m)\n\u001b[1;32m     17\u001b[0m \u001b[38;5;28;01melse\u001b[39;00m:\n\u001b[1;32m     18\u001b[0m     \u001b[38;5;66;03m#Checking that the file in fact is a csv file.\u001b[39;00m\n\u001b[1;32m     19\u001b[0m     \u001b[38;5;28;01mtry\u001b[39;00m:\n",
      "\u001b[0;31mFileNotFoundError\u001b[0m: The file non_existing_trial_file.txt doesn't exist. Double-check your path."
     ]
    }
   ],
   "source": [
    "read_data(\"non_existing_trial_file.txt\")"
   ]
  },
  {
   "cell_type": "markdown",
   "metadata": {},
   "source": [
    "### Exercise 5\n",
    "Squash some bugs! Find the possible logical errors (bugs) in the code blocks below. Comment in each of them which logical errors did you find and correct them."
   ]
  },
  {
   "cell_type": "code",
   "execution_count": null,
   "metadata": {},
   "outputs": [],
   "source": [
    "# 5(a)\n",
    "# Original code with bugs\n",
    "\"\"\"\n",
    "total_double_sum = 0\n",
    "\n",
    "for elem in [10, 5, 2]:\n",
    "    double = elem * 2\n",
    "    total_double_sum += elem <<<--- Sums the original numbers, not their double\n",
    "\"\"\"\n",
    "\n",
    "# Possible solution\n",
    "total_double_sum = 0\n",
    "\n",
    "for elem in [10, 5, 2]:\n",
    "    double = elem * 2\n",
    "    total_double_sum += double\n",
    "\n",
    "    \n",
    "print(total_double_sum)"
   ]
  },
  {
   "cell_type": "code",
   "execution_count": null,
   "metadata": {},
   "outputs": [],
   "source": [
    "# 5(b)\n",
    "# Original code with bugs\n",
    "\"\"\"\n",
    "strings = ''\n",
    "for string in ['I', 'am', 'Groot']:\n",
    "    strings = string+\"_\"+string <<<--- The code overwrites 'strings' with the last value of 'string' and thus only returns the last iteration.\n",
    "\"\"\"\n",
    "\n",
    "# Possible solution\n",
    "strings = ''\n",
    "for string in ['I', 'am', 'Groot']:\n",
    "    strings += string+\"_\"+string   \n",
    "print(strings)"
   ]
  },
  {
   "cell_type": "code",
   "execution_count": null,
   "metadata": {},
   "outputs": [],
   "source": [
    "# 5(c)\n",
    "# Original code with bugs\n",
    "\"\"\"\n",
    "j=10\n",
    "while j > 0: \n",
    "    j += 1 <<<--- It will create an infinite loop, because j will always be > 0.\n",
    "\"\"\"\n",
    "\n",
    "# Possible solution 1:\n",
    "j=10\n",
    "while j > 0: \n",
    "    j -= 1\n",
    "    print(j)\n",
    "    \n",
    "# Possible solution 2:\n",
    "j=10\n",
    "while j < 15: \n",
    "    j += 1\n",
    "    print(j)"
   ]
  },
  {
   "cell_type": "code",
   "execution_count": null,
   "metadata": {},
   "outputs": [],
   "source": [
    "# 5(d)\n",
    "\n",
    "# Original code with bugs\n",
    "\"\"\"\n",
    "productory = 0 <<<--- Will always return 0 when multiplied\n",
    "for elem in [1, 5, 25]:\n",
    "    productory *= elem\n",
    "    \"\"\"\n",
    "# Possible solution\n",
    "productory = 1\n",
    "for elem in [1, 5, 25]:\n",
    "    productory *= elem\n",
    "print(productory)\n"
   ]
  }
 ],
 "metadata": {
  "kernelspec": {
   "display_name": "base",
   "language": "python",
   "name": "python3"
  },
  "language_info": {
   "codemirror_mode": {
    "name": "ipython",
    "version": 3
   },
   "file_extension": ".py",
   "mimetype": "text/x-python",
   "name": "python",
   "nbconvert_exporter": "python",
   "pygments_lexer": "ipython3",
   "version": "3.11.7"
  }
 },
 "nbformat": 4,
 "nbformat_minor": 2
}
