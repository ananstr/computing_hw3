{
 "cells": [
  {
   "cell_type": "markdown",
   "metadata": {},
   "source": [
    "# 3) Functions to retrieve age\n",
    "\n",
    "The function `retrieve_age_lbyl` follows \"Look Before You Leap\" (LBYL) and checks conditions explicitly. The function `retrieve_age_eafp` follows \"Easier to Ask for Forgiveness than Permission\" (EAFP) and uses exception handling."
   ]
  },
  {
   "cell_type": "code",
   "execution_count": 2,
   "metadata": {},
   "outputs": [],
   "source": [
    "dic_1={'name': 'John', 'last_name': 'Doe', 'birth': 1987}\n",
    "dic_2={'name': 'Janet', 'last_name': 'Bird', 'gender': 'female'}\n",
    "\n",
    "#defining the function and limiting the dtype of the parameter that receives\n",
    "def retrieve_age_lbyl(dic:dict):\n",
    "    #import the actual date to be always updated\n",
    "    from datetime import datetime\n",
    "    #checks for the existance of the key 'birth'\n",
    "    if 'birth' not in dic:\n",
    "        return (f\"There is no birth entry in this dictionary.\")\n",
    "    #checking for the correctness of the value asociated to the key birth.\n",
    "    elif dic['birth'] > 0 and isinstance(dic['birth'], int):\n",
    "        return datetime.now().year - dic['birth']\n",
    "    else:\n",
    "        #Returning a message if anything else goes wrong.\n",
    "        return (\"Double check your dictionary, it looks like something is wrong\")\n",
    "\n",
    "def retrieve_age_eafp(dic:dict):\n",
    "    #import the actual date to be always updated\n",
    "    from datetime import datetime\n",
    "    try:\n",
    "        return datetime.now().year - dic['birth']\n",
    "    #catching the KeyError if the key 'birth' doesn't exist\n",
    "    except KeyError:\n",
    "        return (f\"There is no birth entry on this dictionary.\")\n",
    "    #catching any other possible error.\n",
    "    except:\n",
    "        return(\"Double check your dictionary, it looks like something is wrong\")"
   ]
  },
  {
   "cell_type": "code",
   "execution_count": 3,
   "metadata": {},
   "outputs": [
    {
     "name": "stdout",
     "output_type": "stream",
     "text": [
      "37\n",
      "There is no birth entry on this dictionary.\n"
     ]
    }
   ],
   "source": [
    "#testing the function\n",
    "print(retrieve_age_lbyl(dic_1))\n",
    "print(retrieve_age_eafp(dic_2))"
   ]
  },
  {
   "cell_type": "markdown",
   "metadata": {},
   "source": [
    "# 4) read_data function\n",
    "\n",
    "This function reads a CSV file, handling potential errors if the file does not exist or is not a valid CSV, (Only deals with the \",\" delimiter to exemplify)."
   ]
  },
  {
   "cell_type": "code",
   "execution_count": 4,
   "metadata": {},
   "outputs": [],
   "source": [
    "#importing union to manage two posible dtypes inside a single parameter\n",
    "from typing import Union\n",
    "#importing the Path class to avoid posible errors on the pathing when executed in non-unix systems\n",
    "from pathlib import Path\n",
    "#importing pandas to store the data from the csv file as a df\n",
    "import pandas as pd\n",
    "\n",
    "#defining the function and limiting the dtype of the parameter that receives\n",
    "def read_data(csv_file: Union[str, Path]):\n",
    "    #checking if the parameter received is a str to make it a Path object\n",
    "    if isinstance(csv_file, str):\n",
    "        csv_file = Path(csv_file)\n",
    "    #checking if the csv_file given as a parameter exist.\n",
    "    if not csv_file.exists():\n",
    "        #Raising an FileNotFoundError if it doesn't.\n",
    "        raise FileNotFoundError (f\"The file {csv_file} doesn't exist. Double check your path.\")\n",
    "    else:\n",
    "        #checking that the file in fact is a csv file.\n",
    "        try:\n",
    "            with csv_file.open(mode=\"r\") as file_1:\n",
    "                #reading throught the first line of the file to find the delimiter \",\" in this case.\n",
    "                first_line = file_1.readline()\n",
    "            if ',' not in first_line:\n",
    "                #raising a value error is the delimiter is not found on the first line.\n",
    "                raise ValueError(\"The file that you want to read doesn't look like a CSV\")\n",
    "            #storing the file on the variable file_1 and printing a confirmation message.\n",
    "            file_1 =pd.read_csv(csv_file)\n",
    "            print(\"The file has been read and stored in a file_1 variable.\")\n",
    "            return file_1\n",
    "        #catching any other possible error.\n",
    "        except Exception as e:\n",
    "            print(f\"The following error has occurred: {e}\")"
   ]
  },
  {
   "cell_type": "code",
   "execution_count": 8,
   "metadata": {},
   "outputs": [
    {
     "name": "stdout",
     "output_type": "stream",
     "text": [
      "The file has been read and stored in a file_1 variable.\n"
     ]
    },
    {
     "data": {
      "text/html": [
       "<div>\n",
       "<style scoped>\n",
       "    .dataframe tbody tr th:only-of-type {\n",
       "        vertical-align: middle;\n",
       "    }\n",
       "\n",
       "    .dataframe tbody tr th {\n",
       "        vertical-align: top;\n",
       "    }\n",
       "\n",
       "    .dataframe thead th {\n",
       "        text-align: right;\n",
       "    }\n",
       "</style>\n",
       "<table border=\"1\" class=\"dataframe\">\n",
       "  <thead>\n",
       "    <tr style=\"text-align: right;\">\n",
       "      <th></th>\n",
       "      <th>name</th>\n",
       "      <th>age</th>\n",
       "      <th>city</th>\n",
       "    </tr>\n",
       "  </thead>\n",
       "  <tbody>\n",
       "    <tr>\n",
       "      <th>0</th>\n",
       "      <td>John</td>\n",
       "      <td>25</td>\n",
       "      <td>New York</td>\n",
       "    </tr>\n",
       "    <tr>\n",
       "      <th>1</th>\n",
       "      <td>Jane</td>\n",
       "      <td>30</td>\n",
       "      <td>Los Angeles</td>\n",
       "    </tr>\n",
       "    <tr>\n",
       "      <th>2</th>\n",
       "      <td>Doe</td>\n",
       "      <td>22</td>\n",
       "      <td>Chicago</td>\n",
       "    </tr>\n",
       "  </tbody>\n",
       "</table>\n",
       "</div>"
      ],
      "text/plain": [
       "   name  age         city\n",
       "0  John   25     New York\n",
       "1  Jane   30  Los Angeles\n",
       "2   Doe   22      Chicago"
      ]
     },
     "execution_count": 8,
     "metadata": {},
     "output_type": "execute_result"
    }
   ],
   "source": [
    "#testing the function.\n",
    "read_data(\"trial_file.txt\")"
   ]
  },
  {
   "cell_type": "code",
   "execution_count": 6,
   "metadata": {},
   "outputs": [
    {
     "ename": "FileNotFoundError",
     "evalue": "The file non_existing_trial_file.txt doesn't exist. Double check your path.",
     "output_type": "error",
     "traceback": [
      "\u001b[0;31m---------------------------------------------------------------------------\u001b[0m",
      "\u001b[0;31mFileNotFoundError\u001b[0m                         Traceback (most recent call last)",
      "Cell \u001b[0;32mIn[6], line 1\u001b[0m\n\u001b[0;32m----> 1\u001b[0m \u001b[43mread_data\u001b[49m\u001b[43m(\u001b[49m\u001b[38;5;124;43m\"\u001b[39;49m\u001b[38;5;124;43mnon_existing_trial_file.txt\u001b[39;49m\u001b[38;5;124;43m\"\u001b[39;49m\u001b[43m)\u001b[49m\n",
      "Cell \u001b[0;32mIn[4], line 16\u001b[0m, in \u001b[0;36mread_data\u001b[0;34m(csv_file)\u001b[0m\n\u001b[1;32m     13\u001b[0m \u001b[38;5;66;03m#checking if the csv_file given as a parameter exist.\u001b[39;00m\n\u001b[1;32m     14\u001b[0m \u001b[38;5;28;01mif\u001b[39;00m \u001b[38;5;129;01mnot\u001b[39;00m csv_file\u001b[38;5;241m.\u001b[39mexists():\n\u001b[1;32m     15\u001b[0m     \u001b[38;5;66;03m#Raising an FileNotFoundError if it doesn't.\u001b[39;00m\n\u001b[0;32m---> 16\u001b[0m     \u001b[38;5;28;01mraise\u001b[39;00m \u001b[38;5;167;01mFileNotFoundError\u001b[39;00m (\u001b[38;5;124mf\u001b[39m\u001b[38;5;124m\"\u001b[39m\u001b[38;5;124mThe file \u001b[39m\u001b[38;5;132;01m{\u001b[39;00mcsv_file\u001b[38;5;132;01m}\u001b[39;00m\u001b[38;5;124m doesn\u001b[39m\u001b[38;5;124m'\u001b[39m\u001b[38;5;124mt exist. Double check your path.\u001b[39m\u001b[38;5;124m\"\u001b[39m)\n\u001b[1;32m     17\u001b[0m \u001b[38;5;28;01melse\u001b[39;00m:\n\u001b[1;32m     18\u001b[0m     \u001b[38;5;66;03m#checking that the file in fact is a csv file.\u001b[39;00m\n\u001b[1;32m     19\u001b[0m     \u001b[38;5;28;01mtry\u001b[39;00m:\n",
      "\u001b[0;31mFileNotFoundError\u001b[0m: The file non_existing_trial_file.txt doesn't exist. Double check your path."
     ]
    }
   ],
   "source": [
    "read_data(\"non_existing_trial_file.txt\")"
   ]
  }
 ],
 "metadata": {
  "kernelspec": {
   "display_name": "brushup_env",
   "language": "python",
   "name": "python3"
  },
  "language_info": {
   "codemirror_mode": {
    "name": "ipython",
    "version": 3
   },
   "file_extension": ".py",
   "mimetype": "text/x-python",
   "name": "python",
   "nbconvert_exporter": "python",
   "pygments_lexer": "ipython3",
   "version": "3.12.5"
  }
 },
 "nbformat": 4,
 "nbformat_minor": 2
}
