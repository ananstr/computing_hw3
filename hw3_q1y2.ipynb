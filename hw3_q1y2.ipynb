{
 "cells": [
  {
   "cell_type": "markdown",
   "metadata": {},
   "source": [
    "1) Create a function called \"car_at_light\". It should take one parameter: \"light\" which gives the color of a traffic light. If the color is \"red\", the function should return \"stop\". If the color is \"green\", the function should return \"go\". If the color is \"yellow\" the function should return \"wait\". If the color is anything else, the function should raise an exception with the following message: \"Undefined instruction for color: <light>\" where <light> is the value of the parameter light."
   ]
  },
  {
   "cell_type": "code",
   "execution_count": null,
   "metadata": {},
   "outputs": [],
   "source": [
    "# Defining the function with one parameter \"ligth\".\n",
    "def car_at_light(light):\n",
    "    # If the value of the parameter \"light\" is red, green or yellow, the function will \n",
    "    # return the following:\n",
    "    if light == \"red\":\n",
    "        return \"stop\"\n",
    "    elif light == \"green\":\n",
    "        return \"go\"\n",
    "    elif light == \"yellow\":\n",
    "        return \"wait\"\n",
    "    # If the value does not match any of the specified colors, the function will return a \n",
    "    # ValueError exception with a message that includes the value of the light parameter.\n",
    "    else:\n",
    "        raise ValueError(f\"Undefined instruction for color: {light}\")\n"
   ]
  },
  {
   "cell_type": "markdown",
   "metadata": {},
   "source": [
    "2) Create a function named \"safe_subtract\" that takes two parameters and returns the result of the second value subtracted from the first. If the values cannot be subtracted due to its type, it returns None. If there is any other reason why it fails show the problem. "
   ]
  },
  {
   "cell_type": "code",
   "execution_count": 1,
   "metadata": {},
   "outputs": [],
   "source": [
    "# Defining the function with two parameters \"a\" and \"b\".\n",
    "def safe_subtract(a, b):\n",
    "    # Trying to execute the function:\n",
    "    try:\n",
    "        return a - b\n",
    "    # If a TypeError occurs, the function will not be able to substract the parameters and \n",
    "    # therefore, it will pass to the except block, returning \"None\".\n",
    "    except TypeError:\n",
    "        return None\n",
    "    # For any other exception, the function will return an error message where \"e\" \n",
    "    # shows the problem.\n",
    "    except Exception as e:\n",
    "        print(f\"Error: {e}\")"
   ]
  }
 ],
 "metadata": {
  "kernelspec": {
   "display_name": "brushup_env",
   "language": "python",
   "name": "python3"
  },
  "language_info": {
   "codemirror_mode": {
    "name": "ipython",
    "version": 3
   },
   "file_extension": ".py",
   "mimetype": "text/x-python",
   "name": "python",
   "nbconvert_exporter": "python",
   "pygments_lexer": "ipython3",
   "version": "3.12.4"
  }
 },
 "nbformat": 4,
 "nbformat_minor": 2
}
