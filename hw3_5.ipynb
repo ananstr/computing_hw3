{
 "cells": [
  {
   "cell_type": "markdown",
   "metadata": {},
   "source": [
    "# 5) Squash some bugs!"
   ]
  },
  {
   "cell_type": "code",
   "execution_count": 2,
   "metadata": {},
   "outputs": [
    {
     "name": "stdout",
     "output_type": "stream",
     "text": [
      "34\n"
     ]
    }
   ],
   "source": [
    "# 5(a)\n",
    "# Original code with bugs\n",
    "\"\"\"\n",
    "total_double_sum = 0\n",
    "\n",
    "for elem in [10, 5, 2]:\n",
    "    double = elem * 2\n",
    "    total_double_sum += elem <<<--- Sums the original numbers, not their double\n",
    "\"\"\"\n",
    "\n",
    "# Possible solution\n",
    "total_double_sum = 0\n",
    "\n",
    "for elem in [10, 5, 2]:\n",
    "    double = elem * 2\n",
    "    total_double_sum += double\n",
    "\n",
    "    \n",
    "print(total_double_sum)"
   ]
  },
  {
   "cell_type": "code",
   "execution_count": 5,
   "metadata": {},
   "outputs": [
    {
     "name": "stdout",
     "output_type": "stream",
     "text": [
      "I_Iam_amGroot_Groot\n"
     ]
    }
   ],
   "source": [
    "# 5(b)\n",
    "# Original code with bugs\n",
    "\"\"\"\n",
    "strings = ''\n",
    "for string in ['I', 'am', 'Groot']:\n",
    "    strings = string+\"_\"+string <<<--- The code overwrites 'strings' with the last value of 'string' and thus only returns the last iteration.\n",
    "\"\"\"\n",
    "\n",
    "# Possible solution\n",
    "strings = ''\n",
    "for string in ['I', 'am', 'Groot']:\n",
    "    strings += string+\"_\"+string   \n",
    "print(strings)"
   ]
  },
  {
   "cell_type": "code",
   "execution_count": 8,
   "metadata": {},
   "outputs": [
    {
     "name": "stdout",
     "output_type": "stream",
     "text": [
      "9\n",
      "8\n",
      "7\n",
      "6\n",
      "5\n",
      "4\n",
      "3\n",
      "2\n",
      "1\n",
      "0\n",
      "11\n",
      "12\n",
      "13\n",
      "14\n",
      "15\n"
     ]
    }
   ],
   "source": [
    "# 5(c)\n",
    "# Original code with bugs\n",
    "\"\"\"\n",
    "j=10\n",
    "while j > 0: \n",
    "    j += 1 <<<--- It will create an infinite loop, because j will always be > 0.\n",
    "\"\"\"\n",
    "\n",
    "# Possible solution 1:\n",
    "j=10\n",
    "while j > 0: \n",
    "    j -= 1\n",
    "    print(j)\n",
    "    \n",
    "# Possible solution 2:\n",
    "j=10\n",
    "while j < 15: \n",
    "    j += 1\n",
    "    print(j)"
   ]
  },
  {
   "cell_type": "code",
   "execution_count": 9,
   "metadata": {},
   "outputs": [
    {
     "name": "stdout",
     "output_type": "stream",
     "text": [
      "125\n"
     ]
    }
   ],
   "source": [
    "# 5(d)\n",
    "\n",
    "# Original code with bugs\n",
    "\"\"\"\n",
    "productory = 0 <<<--- Will always return 0 when multiplied\n",
    "for elem in [1, 5, 25]:\n",
    "    productory *= elem\n",
    "    \"\"\"\n",
    "# Possible solution\n",
    "productory = 1\n",
    "for elem in [1, 5, 25]:\n",
    "    productory *= elem\n",
    "print(productory)\n"
   ]
  }
 ],
 "metadata": {
  "kernelspec": {
   "display_name": "base",
   "language": "python",
   "name": "python3"
  },
  "language_info": {
   "codemirror_mode": {
    "name": "ipython",
    "version": 3
   },
   "file_extension": ".py",
   "mimetype": "text/x-python",
   "name": "python",
   "nbconvert_exporter": "python",
   "pygments_lexer": "ipython3",
   "version": "3.11.7"
  }
 },
 "nbformat": 4,
 "nbformat_minor": 2
}
